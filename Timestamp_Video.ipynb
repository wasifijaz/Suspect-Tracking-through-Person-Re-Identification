{
 "cells": [
  {
   "cell_type": "code",
   "execution_count": 1,
   "id": "b0bcc8ba",
   "metadata": {},
   "outputs": [],
   "source": [
    "import cv2\n",
    "import os\n",
    "from datetime import datetime"
   ]
  },
  {
   "cell_type": "code",
   "execution_count": 7,
   "id": "dfcb6e1b",
   "metadata": {},
   "outputs": [],
   "source": [
    "video = cv2.VideoCapture('C:/Users/Muhammad Wasif Ijaz/Downloads/cam_a_person_0001_tracking.avi')"
   ]
  },
  {
   "cell_type": "code",
   "execution_count": 9,
   "id": "dc5c38af",
   "metadata": {},
   "outputs": [
    {
     "ename": "error",
     "evalue": "OpenCV(4.5.4-dev) D:\\a\\opencv-python\\opencv-python\\opencv\\modules\\imgcodecs\\src\\loadsave.cpp:799: error: (-215:Assertion failed) !_img.empty() in function 'cv::imwrite'\n",
     "output_type": "error",
     "traceback": [
      "\u001b[1;31m---------------------------------------------------------------------------\u001b[0m",
      "\u001b[1;31merror\u001b[0m                                     Traceback (most recent call last)",
      "\u001b[1;32m<ipython-input-9-e7370b5298fe>\u001b[0m in \u001b[0;36m<module>\u001b[1;34m\u001b[0m\n\u001b[0;32m     27\u001b[0m \u001b[1;33m\u001b[0m\u001b[0m\n\u001b[0;32m     28\u001b[0m         \u001b[1;31m# Save the images in given path\u001b[0m\u001b[1;33m\u001b[0m\u001b[1;33m\u001b[0m\u001b[1;33m\u001b[0m\u001b[0m\n\u001b[1;32m---> 29\u001b[1;33m         \u001b[0mcv2\u001b[0m\u001b[1;33m.\u001b[0m\u001b[0mimwrite\u001b[0m\u001b[1;33m(\u001b[0m\u001b[0mfilename\u001b[0m\u001b[1;33m,\u001b[0m \u001b[0mimg\u001b[0m\u001b[1;33m)\u001b[0m\u001b[1;33m\u001b[0m\u001b[1;33m\u001b[0m\u001b[0m\n\u001b[0m\u001b[0;32m     30\u001b[0m         \u001b[0mi\u001b[0m \u001b[1;33m=\u001b[0m \u001b[0mi\u001b[0m\u001b[1;33m+\u001b[0m\u001b[1;36m1\u001b[0m\u001b[1;33m\u001b[0m\u001b[1;33m\u001b[0m\u001b[0m\n\u001b[0;32m     31\u001b[0m         \u001b[0mwait\u001b[0m \u001b[1;33m=\u001b[0m \u001b[1;36m0\u001b[0m\u001b[1;33m\u001b[0m\u001b[1;33m\u001b[0m\u001b[0m\n",
      "\u001b[1;31merror\u001b[0m: OpenCV(4.5.4-dev) D:\\a\\opencv-python\\opencv-python\\opencv\\modules\\imgcodecs\\src\\loadsave.cpp:799: error: (-215:Assertion failed) !_img.empty() in function 'cv::imwrite'\n"
     ]
    }
   ],
   "source": [
    "path = r'C:/Users/Muhammad Wasif Ijaz/Downloads/timestamp'\n",
    " \n",
    "# changing directory to given path\n",
    "os.chdir(path)\n",
    " \n",
    "# i variable is to give unique name to images\n",
    "i = 1\n",
    " \n",
    "wait = 0\n",
    "while True:\n",
    "    # Read video by read() function and it\n",
    "    # will extract and  return the frame\n",
    "    ret, img = video.read()\n",
    " \n",
    "    # Put current DateTime on each frame\n",
    "    font = cv2.FONT_HERSHEY_PLAIN\n",
    "    cv2.putText(img, str(datetime.now()), (20, 40), font, 2, (255, 255, 255), 2, cv2.LINE_AA)\n",
    " \n",
    " \n",
    "    # wait variable is to calculate waiting time\n",
    "    wait = wait+100\n",
    " \n",
    "    # when it reaches to 5000 milliseconds\n",
    "    # we will save that frame in given folder\n",
    "    if wait == 5000:\n",
    "        filename = 'Frame_'+str(i)+'.jpg'\n",
    "         \n",
    "        # Save the images in given path\n",
    "        cv2.imwrite(filename, img)\n",
    "        i = i+1\n",
    "        wait = 0"
   ]
  },
  {
   "cell_type": "code",
   "execution_count": 38,
   "id": "a95ff52b",
   "metadata": {},
   "outputs": [],
   "source": [
    "source_folder = r\"E:\\Person_Reidentification_PRID2011_FYP\\Person Re-ID Custom Dataset\\custom_dataset_boundingbox\\cam_b\\Person004\\\\\""
   ]
  },
  {
   "cell_type": "code",
   "execution_count": 39,
   "id": "f1c6ab9a",
   "metadata": {},
   "outputs": [],
   "source": [
    "import datetime\n",
    "import re\n",
    "import glob\n",
    "import json\n",
    "\n",
    "def write_json(new_data, filename='C:/Users/Muhammad Wasif Ijaz/Downloads/person0001_tracking_timestamp.json'):\n",
    "    with open(filename,'r+') as file:\n",
    "        file_data = json.load(file)\n",
    "        file_data[\"person_0004\"].append(new_data)\n",
    "        file.seek(0)\n",
    "        json.dump(file_data, file, indent = 4, default=str)\n",
    "        \n",
    "def numericalSort(value):\n",
    "    numbers = re.compile(r'(\\d+)')\n",
    "    parts = numbers.split(value)\n",
    "    parts[1::2] = map(int, parts[1::2])\n",
    "    return parts\n",
    "\n",
    "for file_name in sorted(os.listdir(source_folder), key=numericalSort):\n",
    "    filename = int(file_name[:-4])\n",
    "    sec=filename/15\n",
    "    value = datetime.timedelta(seconds=sec)\n",
    "    y = {file_name: value}\n",
    "    write_json(y)"
   ]
  },
  {
   "cell_type": "code",
   "execution_count": null,
   "id": "09ade7f9",
   "metadata": {},
   "outputs": [],
   "source": []
  }
 ],
 "metadata": {
  "kernelspec": {
   "display_name": "Python 3",
   "language": "python",
   "name": "python3"
  },
  "language_info": {
   "codemirror_mode": {
    "name": "ipython",
    "version": 3
   },
   "file_extension": ".py",
   "mimetype": "text/x-python",
   "name": "python",
   "nbconvert_exporter": "python",
   "pygments_lexer": "ipython3",
   "version": "3.8.8"
  }
 },
 "nbformat": 4,
 "nbformat_minor": 5
}
